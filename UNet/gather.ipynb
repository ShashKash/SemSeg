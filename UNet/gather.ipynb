{
 "cells": [
  {
   "cell_type": "code",
   "execution_count": 30,
   "metadata": {},
   "outputs": [
    {
     "name": "stdout",
     "output_type": "stream",
     "text": [
      "Tensor(\"Const_32:0\", shape=(6, 5), dtype=int32)\n",
      "Tensor(\"Const_33:0\", shape=(6,), dtype=int32)\n",
      "Tensor(\"Const_34:0\", shape=(6,), dtype=int32)\n",
      "Tensor(\"stack_5:0\", shape=(6, 2), dtype=int32)\n"
     ]
    }
   ],
   "source": [
    "import numpy as np\n",
    "import tensorflow as tf\n",
    "\n",
    "a = tf.constant([[1,2,3,4,5],\n",
    "                [6,7,8,9,10],\n",
    "                [11,12,13,14,15],\n",
    "                [16,17,18,19,20],\n",
    "                [21,22,23,24,25],\n",
    "                [26,27,28,29,30]])\n",
    "\n",
    "b = tf.constant(np.arange(6))\n",
    "c = tf.constant([1,2,4,0,3,1])\n",
    "d = tf.stack([b,c], axis=1)\n",
    "\n",
    "print(a)\n",
    "print(b)\n",
    "print(c)\n",
    "print(d)"
   ]
  },
  {
   "cell_type": "code",
   "execution_count": 31,
   "metadata": {},
   "outputs": [
    {
     "name": "stdout",
     "output_type": "stream",
     "text": [
      "Tensor(\"GatherNd_3:0\", shape=(6,), dtype=int32)\n"
     ]
    }
   ],
   "source": [
    "e = tf.gather_nd(params=a, indices=d)\n",
    "print(e)"
   ]
  },
  {
   "cell_type": "code",
   "execution_count": 32,
   "metadata": {},
   "outputs": [
    {
     "name": "stdout",
     "output_type": "stream",
     "text": [
      "[[0 1]\n",
      " [1 2]\n",
      " [2 4]\n",
      " [3 0]\n",
      " [4 3]\n",
      " [5 1]]\n",
      "[ 2  8 15 16 24 27]\n"
     ]
    }
   ],
   "source": [
    "with tf.Session() as sess:\n",
    "    print(d.eval())\n",
    "    x = e.eval()\n",
    "    print(x)"
   ]
  },
  {
   "cell_type": "code",
   "execution_count": null,
   "metadata": {},
   "outputs": [],
   "source": []
  }
 ],
 "metadata": {
  "kernelspec": {
   "display_name": "Python 3",
   "language": "python",
   "name": "python3"
  },
  "language_info": {
   "codemirror_mode": {
    "name": "ipython",
    "version": 3
   },
   "file_extension": ".py",
   "mimetype": "text/x-python",
   "name": "python",
   "nbconvert_exporter": "python",
   "pygments_lexer": "ipython3",
   "version": "3.6.5"
  }
 },
 "nbformat": 4,
 "nbformat_minor": 2
}
