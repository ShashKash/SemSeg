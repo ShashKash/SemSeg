{
 "cells": [
  {
   "cell_type": "code",
   "execution_count": 53,
   "metadata": {},
   "outputs": [],
   "source": [
    "import numpy as np\n",
    "import os\n",
    "import matplotlib.pyplot as plot"
   ]
  },
  {
   "cell_type": "code",
   "execution_count": 54,
   "metadata": {},
   "outputs": [],
   "source": [
    "num_classes = 22"
   ]
  },
  {
   "cell_type": "code",
   "execution_count": 51,
   "metadata": {},
   "outputs": [],
   "source": [
    "# instances /= np.sum(instances)\n",
    "# print(instances)\n",
    "# print(np.sum(instances))\n",
    "# print((1/instances))"
   ]
  },
  {
   "cell_type": "code",
   "execution_count": 64,
   "metadata": {},
   "outputs": [
    {
     "name": "stdout",
     "output_type": "stream",
     "text": [
      "Ratio of background is 0.43349116161616164 in batch - 0\n",
      "Ratio of boundary is 0.07712350780532598 in batch - 0\n",
      "The class weights are [0.43349116161616164, 0.026976611351611352, 0.026976611351611352, 0.026976611351611352, 0.026976611351611352, 0.026976611351611352, 0.026976611351611352, 0.026976611351611352, 0.026976611351611352, 0.026976611351611352, 0.026976611351611352, 0.026976611351611352, 0.026976611351611352, 0.026976611351611352, 0.026976611351611352, 0.026976611351611352, 0.026976611351611352, 0.026976611351611352, 0.026976611351611352, 0.026976611351611352, 0.026976611351611352, 0.026976611351611352] for batch - 0\n",
      "Cross check-sum = 0.9999999999999999\n"
     ]
    }
   ],
   "source": [
    "for batch in range(1):\n",
    "    instances = np.zeros((22))\n",
    "    class_weights = []\n",
    "    y_train = np.load(f\"./d/train_y/y_labels{batch}.npy\")\n",
    "    for image in y_train:\n",
    "        for i in range(132):\n",
    "            for j in range(132):\n",
    "                trueclass_index = np.argmax(image[0, i, j])\n",
    "                instances[trueclass_index] += 1\n",
    "    # print(f\"instances for all image = {instances}\")\n",
    "    background_ratio = instances[0]/np.sum(instances)\n",
    "    boundary_ratio = instances[21]/np.sum(instances)\n",
    "    others_ratio = (1-background_ratio)/21\n",
    "    print(f\"Ratio of background is {background_ratio} in batch - {batch}\")\n",
    "    print(f\"Ratio of boundary is {boundary_ratio} in batch - {batch}\")\n",
    "    class_weights.append(background_ratio)\n",
    "    for n in range(1,22):\n",
    "        class_weights.append(others_ratio)\n",
    "    print(f\"The class weights are {class_weights} for batch - {batch}\")\n",
    "    print(f\"Cross check-sum = {np.sum(class_weights)}\")"
   ]
  },
  {
   "cell_type": "code",
   "execution_count": 67,
   "metadata": {},
   "outputs": [
    {
     "name": "stdout",
     "output_type": "stream",
     "text": [
      "Ratio of background is 0.42862497955897705 in all batches\n",
      "Ratio of boundary is 0.07450560241266967 in all batches\n",
      "The class weights are [0.42862497955897705, 0.02720833430671538, 0.02720833430671538, 0.02720833430671538, 0.02720833430671538, 0.02720833430671538, 0.02720833430671538, 0.02720833430671538, 0.02720833430671538, 0.02720833430671538, 0.02720833430671538, 0.02720833430671538, 0.02720833430671538, 0.02720833430671538, 0.02720833430671538, 0.02720833430671538, 0.02720833430671538, 0.02720833430671538, 0.02720833430671538, 0.02720833430671538, 0.02720833430671538, 0.02720833430671538] for batch - 72\n",
      "Cross check-sum = 1.0000000000000002\n"
     ]
    }
   ],
   "source": [
    "instances = np.zeros((22))\n",
    "class_weights = []\n",
    "\n",
    "for batch in range(73):\n",
    "    y_train = np.load(f\"./d/train_y/y_labels{batch}.npy\")\n",
    "    for image in y_train:\n",
    "        for i in range(132):\n",
    "            for j in range(132):\n",
    "                trueclass_index = np.argmax(image[0, i, j])\n",
    "                instances[trueclass_index] += 1\n",
    "                \n",
    "    # print(f\"instances for all image = {instances}\")\n",
    "\n",
    "background_ratio = instances[0]/np.sum(instances)\n",
    "boundary_ratio = instances[21]/np.sum(instances)\n",
    "others_ratio = (1-background_ratio)/21\n",
    "print(f\"Ratio of background is {background_ratio} in all batches\")\n",
    "print(f\"Ratio of boundary is {boundary_ratio} in all batches\")\n",
    "class_weights.append(background_ratio)\n",
    "for n in range(1,22):\n",
    "    class_weights.append(others_ratio)\n",
    "print(f\"The class weights are {class_weights} for batch - {batch}\")\n",
    "print(f\"Cross check-sum = {np.sum(class_weights)}\")"
   ]
  },
  {
   "cell_type": "code",
   "execution_count": null,
   "metadata": {},
   "outputs": [],
   "source": []
  }
 ],
 "metadata": {
  "kernelspec": {
   "display_name": "Python 3",
   "language": "python",
   "name": "python3"
  },
  "language_info": {
   "codemirror_mode": {
    "name": "ipython",
    "version": 3
   },
   "file_extension": ".py",
   "mimetype": "text/x-python",
   "name": "python",
   "nbconvert_exporter": "python",
   "pygments_lexer": "ipython3",
   "version": "3.6.5"
  }
 },
 "nbformat": 4,
 "nbformat_minor": 2
}
