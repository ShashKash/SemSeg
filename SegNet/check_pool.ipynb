{
 "cells": [
  {
   "cell_type": "code",
   "execution_count": 3,
   "metadata": {},
   "outputs": [],
   "source": [
    "import tensorflow as tf\n",
    "import numpy as np"
   ]
  },
  {
   "cell_type": "code",
   "execution_count": 34,
   "metadata": {},
   "outputs": [],
   "source": [
    "def maxpool_with_indices(input, k_size, stride, scope):\n",
    "    with tf.variable_scope(f\"pool{scope}\"):\n",
    "        pooled, indices = tf.nn.max_pool_with_argmax(input, k_size, stride, padding=\"VALID\")\n",
    "        return pooled, indices\n",
    "\n",
    "\n",
    "    \n",
    "#### When think of modifying use : https://www.tensorflow.org/api_docs/python/tf/unravel_index\n",
    "####                            or https://www.tensorflow.org/api_docs/python/tf/scatter_nd for other dimensions\n",
    "def unpool(input, indices, upsample_factor, scope):\n",
    "    with tf.variable_scope(f\"unpool{scope}\"):\n",
    "        # input and indices must be of same shape\n",
    "        new_size = tf.stack([input.shape[0],\n",
    "                                input.shape[1]*upsample_factor,\n",
    "                                input.shape[2]*upsample_factor,\n",
    "                                input.shape[3]])\n",
    "        batch_num = input.shape[0]\n",
    "        flattened_size = input.shape[1]*upsample_factor*input.shape[2]*upsample_factor*input.shape[3]\n",
    "        flat2 = input.shape[1]*input.shape[2]*input.shape[3]\n",
    "        \n",
    "        indices = tf.reshape(indices, [input.shape[0], -1])\n",
    "        batch_indices = [tf.fill([flat2], i) for i in range(batch_num)]\n",
    "        batch_indices = tf.dtypes.cast(tf.stack(batch_indices), tf.int64)\n",
    "        print(batch_indices)\n",
    "        print(indices)\n",
    "        \n",
    "        indices = tf.concat([tf.expand_dims(batch_indices, axis=-1), tf.expand_dims(indices, axis=-1)], axis=2)\n",
    "        print(indices)\n",
    "        indices = tf.reshape(indices, [-1, 2])\n",
    "        reshaped_input = tf.reshape(input, [-1])\n",
    "        print(input)\n",
    "        \n",
    "        scatter = tf.scatter_nd(indices, reshaped_input, tf.constant([input.shape[0], flattened_size], tf.int64))\n",
    "        scatter = tf.reshape(scatter, new_size)\n",
    "        print(scatter)\n",
    "        return scatter"
   ]
  },
  {
   "cell_type": "code",
   "execution_count": 35,
   "metadata": {},
   "outputs": [
    {
     "name": "stdout",
     "output_type": "stream",
     "text": [
      "Tensor(\"unpool1_12/Cast:0\", shape=(2, 12), dtype=int64)\n",
      "Tensor(\"unpool1_12/Reshape:0\", shape=(2, 12), dtype=int64)\n",
      "Tensor(\"unpool1_12/concat:0\", shape=(2, 12, 2), dtype=int64)\n",
      "Tensor(\"pool1_12/MaxPoolWithArgmax:0\", shape=(2, 2, 2, 3), dtype=float32)\n",
      "Tensor(\"unpool1_12/Reshape_3:0\", shape=(2, 4, 4, 3), dtype=float32)\n"
     ]
    }
   ],
   "source": [
    "batch_size = 2\n",
    "X = tf.placeholder(tf.float32, (batch_size, 4, 4, 3))\n",
    "\n",
    "pool, indexes = maxpool_with_indices(X, [1, 2, 2, 1], [1, 2, 2, 1], 1)\n",
    "unpooled = unpool(pool, indexes, 2, 1)"
   ]
  },
  {
   "cell_type": "code",
   "execution_count": 36,
   "metadata": {
    "scrolled": true
   },
   "outputs": [
    {
     "name": "stdout",
     "output_type": "stream",
     "text": [
      "Tensor(\"pool1_12/MaxPoolWithArgmax:0\", shape=(2, 2, 2, 3), dtype=float32)\n",
      "Tensor(\"pool1_12/MaxPoolWithArgmax:1\", shape=(2, 2, 2, 3), dtype=int64)\n",
      "Tensor(\"unpool1_12/Reshape_3:0\", shape=(2, 4, 4, 3), dtype=float32)\n",
      "(2, 4, 4, 3)\n"
     ]
    }
   ],
   "source": [
    "print(pool)\n",
    "print(indexes)\n",
    "print(unpooled)\n",
    "\n",
    "a = np.random.rand(2, 4, 4, 3)\n",
    "print(a.shape)"
   ]
  },
  {
   "cell_type": "code",
   "execution_count": 37,
   "metadata": {},
   "outputs": [],
   "source": [
    "with tf.Session() as sess:\n",
    "    pooling, index, upsampled = sess.run([pool, indexes, unpooled], feed_dict={X: a})"
   ]
  },
  {
   "cell_type": "code",
   "execution_count": 38,
   "metadata": {},
   "outputs": [
    {
     "name": "stdout",
     "output_type": "stream",
     "text": [
      "[[[[0.38136782 0.18455968 0.86473066]\n",
      "   [0.32374647 0.40201833 0.84936273]\n",
      "   [0.59545316 0.56437869 0.87372253]\n",
      "   [0.75100545 0.76656792 0.92467579]]\n",
      "\n",
      "  [[0.39207686 0.17686958 0.22115289]\n",
      "   [0.79461795 0.08157522 0.95699354]\n",
      "   [0.46016572 0.54912605 0.70999422]\n",
      "   [0.91211233 0.99661519 0.86192987]]\n",
      "\n",
      "  [[0.61037157 0.32751105 0.37276562]\n",
      "   [0.37570618 0.08317121 0.35383032]\n",
      "   [0.58543629 0.08849293 0.66765511]\n",
      "   [0.10664542 0.74430346 0.95261446]]\n",
      "\n",
      "  [[0.9490332  0.12141915 0.52595779]\n",
      "   [0.0605821  0.50430914 0.52313757]\n",
      "   [0.24490628 0.21946001 0.73688933]\n",
      "   [0.20633656 0.0349996  0.99258126]]]\n",
      "\n",
      "\n",
      " [[[0.57065046 0.35511431 0.22484371]\n",
      "   [0.22068036 0.18394342 0.34090796]\n",
      "   [0.9517712  0.66162852 0.86420947]\n",
      "   [0.068316   0.99349968 0.77796021]]\n",
      "\n",
      "  [[0.58827241 0.7360897  0.48052561]\n",
      "   [0.53078077 0.91134645 0.71696684]\n",
      "   [0.45503887 0.79169571 0.16588232]\n",
      "   [0.81299022 0.21411209 0.21377249]]\n",
      "\n",
      "  [[0.18117532 0.52493451 0.5197181 ]\n",
      "   [0.53745404 0.36476016 0.18646088]\n",
      "   [0.16144244 0.78881283 0.13490625]\n",
      "   [0.2957577  0.62009162 0.72311199]]\n",
      "\n",
      "  [[0.31825028 0.99238693 0.39063591]\n",
      "   [0.37461903 0.88794558 0.85360839]\n",
      "   [0.33467637 0.3292017  0.39840169]\n",
      "   [0.59474917 0.80844045 0.63378087]]]]\n"
     ]
    }
   ],
   "source": [
    "print(a)"
   ]
  },
  {
   "cell_type": "code",
   "execution_count": 39,
   "metadata": {},
   "outputs": [
    {
     "name": "stdout",
     "output_type": "stream",
     "text": [
      "[[[[0.79461795 0.40201834 0.9569935 ]\n",
      "   [0.91211236 0.9966152  0.92467576]]\n",
      "\n",
      "  [[0.9490332  0.5043091  0.52595776]\n",
      "   [0.5854363  0.74430346 0.99258125]]]\n",
      "\n",
      "\n",
      " [[[0.5882724  0.91134644 0.71696687]\n",
      "   [0.9517712  0.9934997  0.8642095 ]]\n",
      "\n",
      "  [[0.537454   0.99238694 0.85360837]\n",
      "   [0.59474915 0.80844045 0.723112  ]]]]\n"
     ]
    }
   ],
   "source": [
    "print(pooling)"
   ]
  },
  {
   "cell_type": "code",
   "execution_count": 40,
   "metadata": {},
   "outputs": [
    {
     "name": "stdout",
     "output_type": "stream",
     "text": [
      "[[[[15  4 17]\n",
      "   [21 22 11]]\n",
      "\n",
      "  [[36 40 38]\n",
      "   [30 34 47]]]\n",
      "\n",
      "\n",
      " [[[12 16 17]\n",
      "   [ 6 10  8]]\n",
      "\n",
      "  [[27 37 41]\n",
      "   [45 46 35]]]]\n"
     ]
    }
   ],
   "source": [
    "print(index)"
   ]
  },
  {
   "cell_type": "code",
   "execution_count": 41,
   "metadata": {},
   "outputs": [
    {
     "name": "stdout",
     "output_type": "stream",
     "text": [
      "[[[[0.         0.         0.        ]\n",
      "   [0.         0.40201834 0.        ]\n",
      "   [0.         0.         0.        ]\n",
      "   [0.         0.         0.92467576]]\n",
      "\n",
      "  [[0.         0.         0.        ]\n",
      "   [0.79461795 0.         0.9569935 ]\n",
      "   [0.         0.         0.        ]\n",
      "   [0.91211236 0.9966152  0.        ]]\n",
      "\n",
      "  [[0.         0.         0.        ]\n",
      "   [0.         0.         0.        ]\n",
      "   [0.5854363  0.         0.        ]\n",
      "   [0.         0.74430346 0.        ]]\n",
      "\n",
      "  [[0.9490332  0.         0.52595776]\n",
      "   [0.         0.5043091  0.        ]\n",
      "   [0.         0.         0.        ]\n",
      "   [0.         0.         0.99258125]]]\n",
      "\n",
      "\n",
      " [[[0.         0.         0.        ]\n",
      "   [0.         0.         0.        ]\n",
      "   [0.9517712  0.         0.8642095 ]\n",
      "   [0.         0.9934997  0.        ]]\n",
      "\n",
      "  [[0.5882724  0.         0.        ]\n",
      "   [0.         0.91134644 0.71696687]\n",
      "   [0.         0.         0.        ]\n",
      "   [0.         0.         0.        ]]\n",
      "\n",
      "  [[0.         0.         0.        ]\n",
      "   [0.537454   0.         0.        ]\n",
      "   [0.         0.         0.        ]\n",
      "   [0.         0.         0.723112  ]]\n",
      "\n",
      "  [[0.         0.99238694 0.        ]\n",
      "   [0.         0.         0.85360837]\n",
      "   [0.         0.         0.        ]\n",
      "   [0.59474915 0.80844045 0.        ]]]]\n"
     ]
    }
   ],
   "source": [
    "print(upsampled)"
   ]
  },
  {
   "cell_type": "code",
   "execution_count": null,
   "metadata": {},
   "outputs": [],
   "source": []
  }
 ],
 "metadata": {
  "kernelspec": {
   "display_name": "Python 3",
   "language": "python",
   "name": "python3"
  },
  "language_info": {
   "codemirror_mode": {
    "name": "ipython",
    "version": 3
   },
   "file_extension": ".py",
   "mimetype": "text/x-python",
   "name": "python",
   "nbconvert_exporter": "python",
   "pygments_lexer": "ipython3",
   "version": "3.6.5"
  }
 },
 "nbformat": 4,
 "nbformat_minor": 2
}
